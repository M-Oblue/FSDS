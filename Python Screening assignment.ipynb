{
 "cells": [
  {
   "cell_type": "markdown",
   "id": "510b29e5",
   "metadata": {},
   "source": [
    "###   Q1. Create a function in python to read the text file and replace specific content of the file.\n",
    "\n",
    "File name                 example.txt\n",
    "Origin file content       This is a placement assignment\n",
    "Replace string            placement should be replaced by screening.\n",
    "Replaced file content     This is a screening assignment"
   ]
  },
  {
   "cell_type": "code",
   "execution_count": 48,
   "id": "4066648a",
   "metadata": {},
   "outputs": [],
   "source": [
    "# SOLUTION:\n",
    "\n",
    "def text_replace():\n",
    "    \n",
    "    \"\"\"This function reads example.txt file and checks whether 'This is placement assignment' is the original content\n",
    "    of the file, upon which it replaces 'placement' with 'screening'.\n",
    "    \n",
    "    \"\"\"\n",
    "    try:\n",
    "        with open('example.txt',mode='r',encoding='utf-8') as f:\n",
    "            # reading and storing contents of the file in file_content variable.\n",
    "            file_content = f.read()\n",
    "            \n",
    "        try:\n",
    "            if file_content != 'This is placement assignment':              \n",
    "                raise Exception('')\n",
    "                \n",
    "                            \n",
    "            else:\n",
    "                file_content = file_content.replace('placement','screening')\n",
    "\n",
    "        except:\n",
    "            print(\"TextError !!\")\n",
    "            print(\"Please make sure original example.txt file content is: This is placement assignment\")\n",
    "        \n",
    "        else:\n",
    "            with open('example.txt',mode='w',encoding='utf-8') as f:\n",
    "                # writing modified data into file.\n",
    "                f.write(file_content)\n",
    "                print('This is the modified content of example.txt file:',file_content)\n",
    "            \n",
    "    except:\n",
    "        print(\"Please make sure example.txt file and the code file are in same directory\")\n",
    "        \n",
    "    return"
   ]
  },
  {
   "cell_type": "code",
   "execution_count": 49,
   "id": "227235df",
   "metadata": {},
   "outputs": [
    {
     "name": "stdout",
     "output_type": "stream",
     "text": [
      "TextError !!\n",
      "Please make sure original example.txt file content is: This is placement assignment\n"
     ]
    }
   ],
   "source": [
    "text_replace()"
   ]
  },
  {
   "cell_type": "markdown",
   "id": "85136a16",
   "metadata": {},
   "source": [
    "### Demonstrating use of abstract class"
   ]
  },
  {
   "cell_type": "code",
   "execution_count": 20,
   "id": "a20557d8",
   "metadata": {},
   "outputs": [],
   "source": [
    "from abc import ABC,abstractmethod\n",
    "\n",
    "# creating a 'landmass' abstract base class\n",
    "class landmass(ABC):\n",
    "\n",
    "    # using decorator to define an abstract method.\n",
    "    @abstractmethod\n",
    "    def area(self):\n",
    "        pass\n",
    "    \n",
    "    @abstractmethod\n",
    "    def population(self):\n",
    "        pass\n",
    "    \n",
    "    @abstractmethod\n",
    "    def smallest_country(self):\n",
    "        pass\n",
    "\n",
    "# creating an abstract subclass\n",
    "class europe(landmass):\n",
    "    \n",
    "    def area(self):\n",
    "        print(\"area of europe is 10.53 million square km\")\n",
    "    \n",
    "    def population(self):\n",
    "        print(\"population of europe is 74.64 crores\")\n",
    "        \n",
    "    def smallest_country(self):\n",
    "        print(\"Vatican city\")\n",
    "        \n",
    "class asia(landmass):\n",
    "    \n",
    "    def area(self):\n",
    "        print(\"area of europe is 44.58 million square km\")\n",
    "        \n",
    "    def population(self):\n",
    "        print(\"population of europe is 456.07 crores\")\n",
    "        \n",
    "    def smallest_country(self):\n",
    "        print(\"Cocos(Keeling) Islands\")\n",
    "    "
   ]
  },
  {
   "cell_type": "markdown",
   "id": "a64e80c4",
   "metadata": {},
   "source": [
    "#### driver code"
   ]
  },
  {
   "cell_type": "code",
   "execution_count": 17,
   "id": "7d481d5c",
   "metadata": {},
   "outputs": [],
   "source": [
    "z = europe()"
   ]
  },
  {
   "cell_type": "code",
   "execution_count": 18,
   "id": "a0940926",
   "metadata": {},
   "outputs": [
    {
     "name": "stdout",
     "output_type": "stream",
     "text": [
      "area of europe is 10.53 million square km\n"
     ]
    }
   ],
   "source": [
    "z.area()"
   ]
  },
  {
   "cell_type": "code",
   "execution_count": 19,
   "id": "ce1fdf52",
   "metadata": {},
   "outputs": [
    {
     "name": "stdout",
     "output_type": "stream",
     "text": [
      "Vatican city\n"
     ]
    }
   ],
   "source": [
    "z.smallest_country()"
   ]
  },
  {
   "cell_type": "markdown",
   "id": "820dd6b0",
   "metadata": {},
   "source": [
    "### Demonstrating use of multiple inheritance "
   ]
  },
  {
   "cell_type": "code",
   "execution_count": 15,
   "id": "4bc5c8d4",
   "metadata": {},
   "outputs": [],
   "source": [
    "class summation:\n",
    "    \"\"\"\n",
    "    A class used to print sum of 3 integers.\n",
    "\n",
    "    ...\n",
    "\n",
    "    Attributes\n",
    "    ----------\n",
    "    a : int     \n",
    "    b : int    \n",
    "    c : int\n",
    "\n",
    "\n",
    "    Methods\n",
    "    -------\n",
    "    sum()\n",
    "        Prints the sum of integer attributes.\n",
    "    \"\"\"\n",
    "\n",
    "    def __init__(self,a,b,c,):\n",
    "        \"\"\"\n",
    "        Parameters\n",
    "        ----------\n",
    "        a : int            \n",
    "        b : int            \n",
    "        c : int            \n",
    "        \"\"\"\n",
    "\n",
    "        self.a=a\n",
    "        self.b=b\n",
    "        self.c=c\n",
    "\n",
    "    def sum(self):\n",
    "        \"\"\"Prints the sum of 3 integer inputs.\n",
    "        \n",
    "        \"\"\"\n",
    "\n",
    "        print(\"the sum of three attributes a,b,c is: \",self.a+self.b+self.c)\n",
    "\n",
    "class multiplication:\n",
    "    \"\"\"\n",
    "    A class used to print product of 3 integer.\n",
    "\n",
    "    ...\n",
    "\n",
    "    Attributes\n",
    "    ----------\n",
    "    p : int        \n",
    "    q : int        \n",
    "    r : int\n",
    "\n",
    "\n",
    "    Methods\n",
    "    -------\n",
    "    product()\n",
    "        Prints the product of integer attributes.\n",
    "    \"\"\"\n",
    "\n",
    "    def __init__(self,p,q,r):\n",
    "        \"\"\"\n",
    "        Parameters\n",
    "        ----------\n",
    "        p : int            \n",
    "        q : int            \n",
    "        r : int            \n",
    "        \"\"\"\n",
    "\n",
    "        self.p=p\n",
    "        self.q=q\n",
    "        self.r=r\n",
    "\n",
    "    def product(self):\n",
    "        \"\"\"Prints the product of 3 integer inputs.\n",
    "        \n",
    "        \"\"\"\n",
    "\n",
    "        print(\"the product of three attributes p,q,r is: \",self.p*self.q*self.r)\n",
    "        \n",
    "# inheriting from 2 parent classes xyz and xyz1.\n",
    "\n",
    "class child(summation,multiplication):\n",
    "    \"\"\"\n",
    "    A child class which inherits from summation and multiplication parent classes.\n",
    "\n",
    "    ...\n",
    "\n",
    "    Attributes\n",
    "    ----------\n",
    "    a : int\n",
    "    b : int\n",
    "    c : int\n",
    "    p : int        \n",
    "    q : int        \n",
    "    r : int\n",
    "        \n",
    "\n",
    "    Methods\n",
    "    -------\n",
    "    sum()\n",
    "        Prints the sum of a,b,c integer attributes.\n",
    "    \n",
    "    product()\n",
    "        Prints the product of p,q,r integer attributes.\n",
    "    \"\"\"\n",
    "    \n",
    "    def __init__(self,*args,**kwargs):\n",
    "        \"\"\"a,b,c are positional arguments and p,q,r are keyword arguments(e.g:p=2,q=5,r=7)\n",
    "        \n",
    "        Parameters\n",
    "        ----------\n",
    "        a : int\n",
    "        b : int\n",
    "        c : int\n",
    "        p : int            \n",
    "        q : int            \n",
    "        r : int            \n",
    "        \"\"\"\n",
    "        \n",
    "        summation.__init__(self,*args)\n",
    "        multiplication.__init__(self,**kwargs)\n",
    "        "
   ]
  },
  {
   "cell_type": "code",
   "execution_count": 25,
   "id": "0f2567e0",
   "metadata": {},
   "outputs": [],
   "source": [
    "z=child(1,2,30,p=11,q=5,r=8)"
   ]
  },
  {
   "cell_type": "code",
   "execution_count": 26,
   "id": "da5835af",
   "metadata": {},
   "outputs": [
    {
     "name": "stdout",
     "output_type": "stream",
     "text": [
      "the sum of three attributes a,b,c is:  33\n"
     ]
    }
   ],
   "source": [
    "z.sum()"
   ]
  },
  {
   "cell_type": "code",
   "execution_count": 27,
   "id": "f0a72c4c",
   "metadata": {},
   "outputs": [
    {
     "name": "stdout",
     "output_type": "stream",
     "text": [
      "the product of three attributes p,q,r is:  440\n"
     ]
    }
   ],
   "source": [
    "z.product()"
   ]
  },
  {
   "cell_type": "markdown",
   "id": "e56ff337",
   "metadata": {},
   "source": [
    "### Demonstrating use of decorator"
   ]
  },
  {
   "cell_type": "code",
   "execution_count": null,
   "id": "05cac317",
   "metadata": {},
   "outputs": [],
   "source": [
    "# a decorator is used when we need to change the behaviour of a funtion without modifying the function itself.\n",
    "# Simply put, a decorator is a function that takes a function as input, modifies its behavior and returns it."
   ]
  },
  {
   "cell_type": "code",
   "execution_count": 46,
   "id": "0d10d7b3",
   "metadata": {},
   "outputs": [],
   "source": [
    "def decorate(func):\n",
    "    def wrapper():\n",
    "        print(\"wrapper text before function calling\")\n",
    "        func()\n",
    "        print(\"wrapper text after function calling\")\n",
    "    return wrapper\n",
    "\n",
    "# @function_name automatically decorates the function written in next line.\n",
    "@decorate\n",
    "def my_function():\n",
    "    print(\"this is my main function\")\n",
    "\n",
    "# in the output we see that the behaviour of my_function() is modified.\n",
    "# before decorating my_function(), was printing 1 line of text and after decorating, it is printing 2 additional lines of text.\n",
    "    \n"
   ]
  },
  {
   "cell_type": "code",
   "execution_count": 48,
   "id": "79cf0750",
   "metadata": {},
   "outputs": [
    {
     "name": "stdout",
     "output_type": "stream",
     "text": [
      "wrapper text before function calling\n",
      "this is my main function\n",
      "wrapper text after function calling\n"
     ]
    }
   ],
   "source": [
    "my_function()"
   ]
  },
  {
   "cell_type": "code",
   "execution_count": null,
   "id": "d89b5d79",
   "metadata": {},
   "outputs": [],
   "source": []
  }
 ],
 "metadata": {
  "kernelspec": {
   "display_name": "Python 3 (ipykernel)",
   "language": "python",
   "name": "python3"
  },
  "language_info": {
   "codemirror_mode": {
    "name": "ipython",
    "version": 3
   },
   "file_extension": ".py",
   "mimetype": "text/x-python",
   "name": "python",
   "nbconvert_exporter": "python",
   "pygments_lexer": "ipython3",
   "version": "3.9.7"
  }
 },
 "nbformat": 4,
 "nbformat_minor": 5
}
